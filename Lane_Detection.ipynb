{
  "nbformat": 4,
  "nbformat_minor": 0,
  "metadata": {
    "colab": {
      "name": "Lane-Detection.ipynb",
      "provenance": [],
      "collapsed_sections": [],
      "mount_file_id": "1m-Hy_IJOp8uQhO6-iBPs06q78Onk2aEr",
      "authorship_tag": "ABX9TyNtmvbHMPHHlXRA6er/HtUC",
      "include_colab_link": true
    },
    "kernelspec": {
      "name": "python3",
      "display_name": "Python 3"
    },
    "language_info": {
      "name": "python"
    }
  },
  "cells": [
    {
      "cell_type": "markdown",
      "metadata": {
        "id": "view-in-github",
        "colab_type": "text"
      },
      "source": [
        "<a href=\"https://colab.research.google.com/github/MohamedAbdelAzeem/Lane-Detection/blob/main/Lane_Detection.ipynb\" target=\"_parent\"><img src=\"https://colab.research.google.com/assets/colab-badge.svg\" alt=\"Open In Colab\"/></a>"
      ]
    },
    {
      "cell_type": "code",
      "source": [
        "import numpy as np\n",
        "import matplotlib.pyplot as plt\n",
        "import matplotlib.image as mpimg\n",
        "import cv2\n",
        "#from IPython.display import HTML, Video\n",
        "from moviepy.editor import VideoFileClip\n"
      ],
      "metadata": {
        "colab": {
          "base_uri": "https://localhost:8080/"
        },
        "id": "3biklx-54CqT",
        "outputId": "a239cdb1-2eb1-432c-d624-0362e765278f"
      },
      "execution_count": 4,
      "outputs": [
        {
          "output_type": "stream",
          "name": "stdout",
          "text": [
            "Imageio: 'ffmpeg-linux64-v3.3.1' was not found on your computer; downloading it now.\n",
            "Try 1. Download from https://github.com/imageio/imageio-binaries/raw/master/ffmpeg/ffmpeg-linux64-v3.3.1 (43.8 MB)\n",
            "Downloading: 8192/45929032 bytes (0.0%)\b\b\b\b\b\b\b\b\b\b\b\b\b\b\b\b\b\b\b\b\b\b\b\b\b\b2220032/45929032 bytes (4.8%)\b\b\b\b\b\b\b\b\b\b\b\b\b\b\b\b\b\b\b\b\b\b\b\b\b\b\b\b\b4685824/45929032 bytes (10.2%)\b\b\b\b\b\b\b\b\b\b\b\b\b\b\b\b\b\b\b\b\b\b\b\b\b\b\b\b\b\b7241728/45929032 bytes (15.8%)\b\b\b\b\b\b\b\b\b\b\b\b\b\b\b\b\b\b\b\b\b\b\b\b\b\b\b\b\b\b9527296/45929032 bytes (20.7%)\b\b\b\b\b\b\b\b\b\b\b\b\b\b\b\b\b\b\b\b\b\b\b\b\b\b\b\b\b\b12410880/45929032 bytes (27.0%)\b\b\b\b\b\b\b\b\b\b\b\b\b\b\b\b\b\b\b\b\b\b\b\b\b\b\b\b\b\b\b15499264/45929032 bytes (33.7%)\b\b\b\b\b\b\b\b\b\b\b\b\b\b\b\b\b\b\b\b\b\b\b\b\b\b\b\b\b\b\b18227200/45929032 bytes (39.7%)\b\b\b\b\b\b\b\b\b\b\b\b\b\b\b\b\b\b\b\b\b\b\b\b\b\b\b\b\b\b\b20332544/45929032 bytes (44.3%)\b\b\b\b\b\b\b\b\b\b\b\b\b\b\b\b\b\b\b\b\b\b\b\b\b\b\b\b\b\b\b22241280/45929032 bytes (48.4%)\b\b\b\b\b\b\b\b\b\b\b\b\b\b\b\b\b\b\b\b\b\b\b\b\b\b\b\b\b\b\b24174592/45929032 bytes (52.6%)\b\b\b\b\b\b\b\b\b\b\b\b\b\b\b\b\b\b\b\b\b\b\b\b\b\b\b\b\b\b\b26763264/45929032 bytes (58.3%)\b\b\b\b\b\b\b\b\b\b\b\b\b\b\b\b\b\b\b\b\b\b\b\b\b\b\b\b\b\b\b30048256/45929032 bytes (65.4%)\b\b\b\b\b\b\b\b\b\b\b\b\b\b\b\b\b\b\b\b\b\b\b\b\b\b\b\b\b\b\b32669696/45929032 bytes (71.1%)\b\b\b\b\b\b\b\b\b\b\b\b\b\b\b\b\b\b\b\b\b\b\b\b\b\b\b\b\b\b\b35831808/45929032 bytes (78.0%)\b\b\b\b\b\b\b\b\b\b\b\b\b\b\b\b\b\b\b\b\b\b\b\b\b\b\b\b\b\b\b37871616/45929032 bytes (82.5%)\b\b\b\b\b\b\b\b\b\b\b\b\b\b\b\b\b\b\b\b\b\b\b\b\b\b\b\b\b\b\b40452096/45929032 bytes (88.1%)\b\b\b\b\b\b\b\b\b\b\b\b\b\b\b\b\b\b\b\b\b\b\b\b\b\b\b\b\b\b\b42967040/45929032 bytes (93.6%)\b\b\b\b\b\b\b\b\b\b\b\b\b\b\b\b\b\b\b\b\b\b\b\b\b\b\b\b\b\b\b45776896/45929032 bytes (99.7%)\b\b\b\b\b\b\b\b\b\b\b\b\b\b\b\b\b\b\b\b\b\b\b\b\b\b\b\b\b\b\b45929032/45929032 bytes (100.0%)\n",
            "  Done\n",
            "File saved as /root/.imageio/ffmpeg/ffmpeg-linux64-v3.3.1.\n"
          ]
        }
      ]
    },
    {
      "cell_type": "code",
      "execution_count": 2,
      "metadata": {
        "colab": {
          "base_uri": "https://localhost:8080/"
        },
        "id": "ccSwP3nR3lDe",
        "outputId": "1970ee55-bf56-4ea1-fd3a-27ba42bb539a"
      },
      "outputs": [
        {
          "output_type": "stream",
          "name": "stdout",
          "text": [
            "/content/drive/MyDrive/A_ImageProcessingProject\n"
          ]
        }
      ],
      "source": [
        "%cd  drive/MyDrive/A_ImageProcessingProject/"
      ]
    },
    {
      "cell_type": "markdown",
      "source": [
        "# Importing images"
      ],
      "metadata": {
        "id": "J__3qlNM5WJU"
      }
    },
    {
      "cell_type": "code",
      "source": [
        "images = []\n",
        "images.append(mpimg.imread('test_images/challenge_video_frame_1.jpg'))\n",
        "images.append(mpimg.imread('test_images/challenge_video_frame_100.jpg'))\n",
        "images.append(mpimg.imread('test_images/challenge_video_frame_110.jpg'))\n",
        "images.append(mpimg.imread('test_images/challenge_video_frame_120.jpg'))\n",
        "images.append(mpimg.imread('test_images/challenge_video_frame_130.jpg'))\n",
        "images.append(mpimg.imread('test_images/challenge_video_frame_140.jpg'))"
      ],
      "metadata": {
        "id": "1KbYNI3D4Cvw"
      },
      "execution_count": 5,
      "outputs": []
    },
    {
      "cell_type": "code",
      "source": [
        "images1 = []\n",
        "images1.append(mpimg.imread('test_images/project_video_frame_1032.jpg'))\n",
        "images1.append(mpimg.imread('test_images/project_video_frame_1048.jpg'))\n",
        "images1.append(mpimg.imread('test_images/project_video_frame_235.jpg'))\n",
        "images1.append(mpimg.imread('test_images/project_video_frame_810.jpg'))\n",
        "images1.append(mpimg.imread('test_images/project_video_frame_551.jpg'))"
      ],
      "metadata": {
        "id": "Lm1pZA2B5Q5i"
      },
      "execution_count": 6,
      "outputs": []
    },
    {
      "cell_type": "code",
      "source": [
        "images2 = []\n",
        "images2.append(mpimg.imread('test_images/harder_challenge_video_frame_1.jpg'))\n",
        "images2.append(mpimg.imread('test_images/harder_challenge_video_frame_10.jpg'))\n",
        "images2.append(mpimg.imread('test_images/harder_challenge_video_frame_100.jpg'))\n",
        "images2.append(mpimg.imread('test_images/harder_challenge_video_frame_200.jpg'))\n",
        "images2.append(mpimg.imread('test_images/harder_challenge_video_frame_300.jpg'))\n",
        "images2.append(mpimg.imread('test_images/harder_challenge_video_frame_400.jpg'))\n",
        "images2.append(mpimg.imread('test_images/harder_challenge_video_frame_500.jpg'))\n",
        "images2.append(mpimg.imread('test_images/harder_challenge_video_frame_600.jpg'))\n",
        "images2.append(mpimg.imread('test_images/harder_challenge_video_frame_700.jpg'))\n",
        "images2.append(mpimg.imread('test_images/harder_challenge_video_frame_800.jpg'))\n",
        "images2.append(mpimg.imread('test_images/harder_challenge_video_frame_900.jpg'))\n",
        "images2.append(mpimg.imread('test_images/harder_challenge_video_frame_1000.jpg'))\n",
        "images2.append(mpimg.imread('test_images/harder_challenge_video_frame_1100.jpg'))"
      ],
      "metadata": {
        "id": "qamxQ4wX5RC8"
      },
      "execution_count": 7,
      "outputs": []
    }
  ]
}